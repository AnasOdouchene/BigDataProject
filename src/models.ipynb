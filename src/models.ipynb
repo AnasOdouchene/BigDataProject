{
 "cells": [
  {
   "cell_type": "code",
   "execution_count": 29,
   "id": "6b31ab35",
   "metadata": {},
   "outputs": [
    {
     "name": "stdout",
     "output_type": "stream",
     "text": [
      "===== Données Initiales =====\n",
      "+--------+-----------+---------+-----------+-------------+-----------+--------------------+----------+-------------------+------+-------------+\n",
      "|      ID|Initialdate|Finaldate|    Area_ha|      Area_m2|   Area_Km2|         CountryName| Continent|             Region|Season|Duration_days|\n",
      "+--------+-----------+---------+-----------+-------------+-----------+--------------------+----------+-------------------+------+-------------+\n",
      "|25078590|       NULL|     NULL|50232.10763|5.023210763E8|502.3210763|               Ghana|    Africa|     Western Africa|Autumn|         NULL|\n",
      "|25079092|       NULL|     NULL|82380.29538|8.238029538E8|823.8029538|             Nigeria|    Africa|     Western Africa|Autumn|         NULL|\n",
      "|25079113|       NULL|     NULL|36851.12748|3.685112748E8|368.5112748|             Nigeria|    Africa|     Western Africa|Autumn|         NULL|\n",
      "|25083241|       NULL|     NULL|43303.63519|4.330363519E8|433.0363519|             Nigeria|    Africa|     Western Africa|Autumn|         NULL|\n",
      "|25095507|       NULL|     NULL|75753.14059|7.575314059E8|757.5314059|   Central Africa...|    Africa|      Middle Africa|Autumn|         NULL|\n",
      "+--------+-----------+---------+-----------+-------------+-----------+--------------------+----------+-------------------+------+-------------+\n",
      "only showing top 5 rows\n",
      "\n"
     ]
    }
   ],
   "source": [
    "from pyspark.sql import SparkSession\n",
    "import pandas as pd\n",
    "from pyspark.sql.functions import col , when\n",
    "from pyspark.ml.feature import StringIndexer, VectorAssembler\n",
    "from pyspark.ml.classification import RandomForestClassifier\n",
    "from pyspark.ml.evaluation import MulticlassClassificationEvaluator\n",
    "from pyspark.ml.regression import RandomForestRegressor\n",
    "from pyspark.ml.evaluation import RegressionEvaluator\n",
    "\n",
    "\n",
    "spark = SparkSession.builder.appName(\"PredictionSession\").config(\"spark.local.dir\", \"C:/temp\").config(\"spark.executor.memory\", \"4g\").config(\"spark.driver.memory\", \"4g\").getOrCreate()\n",
    "\n",
    "dataset_path = \"../data/Transformed_GlobalFireBurnedArea_pandas.csv\"\n",
    "df = spark.read.csv(dataset_path, header=True, inferSchema=True)\n",
    "\n",
    "# Afficher les 5 premières lignes des données initiales\n",
    "print(\"===== Données Initiales =====\")\n",
    "df.show(5)"
   ]
  },
  {
   "cell_type": "code",
   "execution_count": 30,
   "id": "10e5579a",
   "metadata": {},
   "outputs": [
    {
     "name": "stdout",
     "output_type": "stream",
     "text": [
      "+--------+------+\n",
      "|severity| count|\n",
      "+--------+------+\n",
      "|    High|   121|\n",
      "|     Low|312489|\n",
      "|  Medium|  6668|\n",
      "+--------+------+\n",
      "\n"
     ]
    }
   ],
   "source": [
    "df = df.withColumn(\n",
    "    \"severity\",\n",
    "    when(col(\"Area_Km2\") < 50, \"Low\")\n",
    "    .when((col(\"Area_Km2\") >= 50) & (col(\"Area_Km2\") < 1000), \"Medium\")\n",
    "    .otherwise(\"High\")\n",
    ")\n",
    "\n",
    "# Compter le nombre d'incendies par catégorie\n",
    "df.groupBy(\"severity\").count().show()\n"
   ]
  },
  {
   "cell_type": "code",
   "execution_count": 31,
   "id": "637ff5df",
   "metadata": {},
   "outputs": [
    {
     "name": "stdout",
     "output_type": "stream",
     "text": [
      "===== Après encodage des colonnes catégoriques =====\n",
      "+--------+--------------+------+------------+\n",
      "|severity|severity_index|Season|Season_index|\n",
      "+--------+--------------+------+------------+\n",
      "|  Medium|           1.0|Autumn|         0.0|\n",
      "|  Medium|           1.0|Autumn|         0.0|\n",
      "|  Medium|           1.0|Autumn|         0.0|\n",
      "|  Medium|           1.0|Autumn|         0.0|\n",
      "|  Medium|           1.0|Autumn|         0.0|\n",
      "+--------+--------------+------+------------+\n",
      "only showing top 5 rows\n",
      "\n"
     ]
    }
   ],
   "source": [
    "indexer = StringIndexer(\n",
    "    inputCols=[\"severity\", \"Season\", \"CountryName\", \"Region\", \"Continent\"],\n",
    "    outputCols=[\"severity_index\", \"Season_index\", \"CountryName_index\", \"Region_index\", \"Continent_index\"]\n",
    ")\n",
    "df = indexer.fit(df).transform(df)\n",
    "print(\"===== Après encodage des colonnes catégoriques =====\")\n",
    "df.select(\"severity\", \"severity_index\", \"Season\", \"Season_index\").show(5)"
   ]
  },
  {
   "cell_type": "code",
   "execution_count": 32,
   "id": "0e16a2c4",
   "metadata": {},
   "outputs": [
    {
     "name": "stdout",
     "output_type": "stream",
     "text": [
      "+------+------+\n",
      "|Season| count|\n",
      "+------+------+\n",
      "|Autumn|319278|\n",
      "+------+------+\n",
      "\n"
     ]
    }
   ],
   "source": [
    "df.groupBy(\"Season\").count().show()"
   ]
  },
  {
   "cell_type": "code",
   "execution_count": 33,
   "id": "c770afaf",
   "metadata": {},
   "outputs": [
    {
     "name": "stdout",
     "output_type": "stream",
     "text": [
      "Schéma après gestion des valeurs nulles :\n",
      "root\n",
      " |-- ID: integer (nullable = true)\n",
      " |-- Initialdate: string (nullable = true)\n",
      " |-- Finaldate: string (nullable = true)\n",
      " |-- Area_ha: double (nullable = true)\n",
      " |-- Area_m2: double (nullable = true)\n",
      " |-- Area_Km2: double (nullable = true)\n",
      " |-- CountryName: string (nullable = true)\n",
      " |-- Continent: string (nullable = true)\n",
      " |-- Region: string (nullable = true)\n",
      " |-- Season: string (nullable = true)\n",
      " |-- Duration_days: double (nullable = true)\n",
      " |-- severity: string (nullable = false)\n",
      " |-- severity_index: double (nullable = false)\n",
      " |-- Season_index: double (nullable = false)\n",
      " |-- CountryName_index: double (nullable = false)\n",
      " |-- Region_index: double (nullable = false)\n",
      " |-- Continent_index: double (nullable = false)\n",
      "\n",
      "===== Après assemblage des caractéristiques =====\n",
      "+--------------------+--------------+-----------+\n",
      "|features            |severity_index|Area_Km2   |\n",
      "+--------------------+--------------+-----------+\n",
      "|(5,[2,3],[17.0,2.0])|1.0           |502.3210763|\n",
      "|(5,[2,3],[9.0,2.0]) |1.0           |823.8029538|\n",
      "|(5,[2,3],[9.0,2.0]) |1.0           |368.5112748|\n",
      "|(5,[2,3],[9.0,2.0]) |1.0           |433.0363519|\n",
      "|(5,[2],[5.0])       |1.0           |757.5314059|\n",
      "+--------------------+--------------+-----------+\n",
      "only showing top 5 rows\n",
      "\n"
     ]
    }
   ],
   "source": [
    "from pyspark.ml.feature import VectorAssembler\n",
    "from pyspark.sql.functions import col, when\n",
    "\n",
    "# Vérifier et gérer les valeurs nulles dans les colonnes\n",
    "df = df.withColumn(\"Season_index\", when(col(\"Season_index\").isNull(), 0).otherwise(col(\"Season_index\")))\n",
    "df = df.withColumn(\"Duration_days\", when(col(\"Duration_days\").isNull(), 0).otherwise(col(\"Duration_days\").cast(\"double\")))\n",
    "df = df.withColumn(\"CountryName_index\", when(col(\"CountryName_index\").isNull(), 0).otherwise(col(\"CountryName_index\")))\n",
    "df = df.withColumn(\"Region_index\", when(col(\"Region_index\").isNull(), 0).otherwise(col(\"Region_index\")))\n",
    "df = df.withColumn(\"Continent_index\", when(col(\"Continent_index\").isNull(), 0).otherwise(col(\"Continent_index\")))\n",
    "\n",
    "# Vérifier le schéma après gestion des valeurs nulles\n",
    "print(\"Schéma après gestion des valeurs nulles :\")\n",
    "df.printSchema()\n",
    "\n",
    "# Définir les colonnes d'entrée pour VectorAssembler\n",
    "feature_cols = [\"Season_index\", \"Duration_days\", \"CountryName_index\", \"Region_index\", \"Continent_index\"]\n",
    "\n",
    "# Initialiser VectorAssembler\n",
    "assembler = VectorAssembler(inputCols=feature_cols, outputCol=\"features\")\n",
    "\n",
    "# Appliquer la transformation\n",
    "df = assembler.transform(df)\n",
    "\n",
    "# Afficher les résultats\n",
    "print(\"===== Après assemblage des caractéristiques =====\")\n",
    "df.select(\"features\", \"severity_index\", \"Area_Km2\").show(5, truncate=False)\n"
   ]
  },
  {
   "cell_type": "code",
   "execution_count": 34,
   "id": "efc4b51b",
   "metadata": {},
   "outputs": [
    {
     "name": "stdout",
     "output_type": "stream",
     "text": [
      "===== Données d'entraînement =====\n",
      "+--------+-----------+---------+-----------+-------------+-----------+---------------------------+------------+---------------------+------+-------------+--------+--------------+------------+-----------------+------------+---------------+-----------------------+\n",
      "|ID      |Initialdate|Finaldate|Area_ha    |Area_m2      |Area_Km2   |CountryName                |Continent   |Region               |Season|Duration_days|severity|severity_index|Season_index|CountryName_index|Region_index|Continent_index|features               |\n",
      "+--------+-----------+---------+-----------+-------------+-----------+---------------------------+------------+---------------------+------+-------------+--------+--------------+------------+-----------------+------------+---------------+-----------------------+\n",
      "|25036465|NULL       |NULL     |214.8744509|2148744.509  |2.148744509|   United States of America|    Americas|     Northern America|Autumn|0.0          |Low     |0.0           |0.0         |22.0             |10.0        |1.0            |[0.0,0.0,22.0,10.0,1.0]|\n",
      "|25036468|NULL       |NULL     |1439.054333|1.439054333E7|14.39054333|   United States of America|    Americas|     Northern America|Autumn|0.0          |Low     |0.0           |0.0         |22.0             |10.0        |1.0            |[0.0,0.0,22.0,10.0,1.0]|\n",
      "|25036474|NULL       |NULL     |107.3784157|1073784.157  |1.073784157|   United States of America|    Americas|     Northern America|Autumn|0.0          |Low     |0.0           |0.0         |22.0             |10.0        |1.0            |[0.0,0.0,22.0,10.0,1.0]|\n",
      "|25036477|NULL       |NULL     |493.939082 |4939390.82   |4.93939082 |   United States of America|    Americas|     Northern America|Autumn|0.0          |Low     |0.0           |0.0         |22.0             |10.0        |1.0            |[0.0,0.0,22.0,10.0,1.0]|\n",
      "|25036478|NULL       |NULL     |107.3770202|1073770.202  |1.073770202|   United States of America|    Americas|     Northern America|Autumn|0.0          |Low     |0.0           |0.0         |22.0             |10.0        |1.0            |[0.0,0.0,22.0,10.0,1.0]|\n",
      "+--------+-----------+---------+-----------+-------------+-----------+---------------------------+------------+---------------------+------+-------------+--------+--------------+------------+-----------------+------------+---------------+-----------------------+\n",
      "only showing top 5 rows\n",
      "\n",
      "===== Données de test =====\n",
      "+--------+-----------+---------+-----------+-----------+-----------+---------------------------+------------+---------------------+------+-------------+--------+--------------+------------+-----------------+------------+---------------+-----------------------+\n",
      "|ID      |Initialdate|Finaldate|Area_ha    |Area_m2    |Area_Km2   |CountryName                |Continent   |Region               |Season|Duration_days|severity|severity_index|Season_index|CountryName_index|Region_index|Continent_index|features               |\n",
      "+--------+-----------+---------+-----------+-----------+-----------+---------------------------+------------+---------------------+------+-------------+--------+--------------+------------+-----------------+------------+---------------+-----------------------+\n",
      "|25036472|NULL       |NULL     |107.3939977|1073939.977|1.073939977|   United States of America|    Americas|     Northern America|Autumn|0.0          |Low     |0.0           |0.0         |22.0             |10.0        |1.0            |[0.0,0.0,22.0,10.0,1.0]|\n",
      "|25036483|NULL       |NULL     |322.1117395|3221117.395|3.221117395|   United States of America|    Americas|     Northern America|Autumn|0.0          |Low     |0.0           |0.0         |22.0             |10.0        |1.0            |[0.0,0.0,22.0,10.0,1.0]|\n",
      "|25036489|NULL       |NULL     |193.1822245|1931822.245|1.931822245|   United States of America|    Americas|     Northern America|Autumn|0.0          |Low     |0.0           |0.0         |22.0             |10.0        |1.0            |[0.0,0.0,22.0,10.0,1.0]|\n",
      "|25036500|NULL       |NULL     |107.226946 |1072269.46 |1.07226946 |   Mexico                  |    Americas|     Central America |Autumn|0.0          |Low     |0.0           |0.0         |33.0             |11.0        |1.0            |[0.0,0.0,33.0,11.0,1.0]|\n",
      "|25036515|NULL       |NULL     |128.670946 |1286709.46 |1.28670946 |   Mexico                  |    Americas|     Central America |Autumn|0.0          |Low     |0.0           |0.0         |33.0             |11.0        |1.0            |[0.0,0.0,33.0,11.0,1.0]|\n",
      "+--------+-----------+---------+-----------+-----------+-----------+---------------------------+------------+---------------------+------+-------------+--------+--------------+------------+-----------------+------------+---------------+-----------------------+\n",
      "only showing top 5 rows\n",
      "\n"
     ]
    }
   ],
   "source": [
    "train_data, test_data = df.randomSplit([0.8, 0.2], seed=42)\n",
    "print(\"===== Données d'entraînement =====\")\n",
    "train_data.show(5, truncate=False)\n",
    "print(\"===== Données de test =====\")\n",
    "test_data.show(5, truncate=False)\n",
    "\n"
   ]
  },
  {
   "cell_type": "code",
   "execution_count": 35,
   "id": "b4cd0115",
   "metadata": {},
   "outputs": [
    {
     "name": "stdout",
     "output_type": "stream",
     "text": [
      "===== Objectif 1 : Prédiction de la gravité =====\n",
      "===== Prédictions pour la classification =====\n",
      "+--------+--------------+----------+--------------------+\n",
      "|severity|severity_index|prediction|         probability|\n",
      "+--------+--------------+----------+--------------------+\n",
      "|     Low|           0.0|       0.0|[0.97800894014079...|\n",
      "|     Low|           0.0|       0.0|[0.97800894014079...|\n",
      "|     Low|           0.0|       0.0|[0.97800894014079...|\n",
      "|     Low|           0.0|       0.0|[0.97800894014079...|\n",
      "|     Low|           0.0|       0.0|[0.97800894014079...|\n",
      "+--------+--------------+----------+--------------------+\n",
      "only showing top 5 rows\n",
      "\n",
      "Précision du modèle de classification : 0.98\n"
     ]
    }
   ],
   "source": [
    "\n",
    "\n",
    "# Entraîner le modèle de classification\n",
    "print(\"===== Objectif 1 : Prédiction de la gravité =====\")\n",
    "rf_classifier = RandomForestClassifier(labelCol=\"severity_index\", featuresCol=\"features\",maxBins=150)\n",
    "rf_model = rf_classifier.fit(train_data)\n",
    "\n",
    "# Faire des prédictions\n",
    "predictions_classifier = rf_model.transform(test_data)\n",
    "print(\"===== Prédictions pour la classification =====\")\n",
    "predictions_classifier.select(\"severity\", \"severity_index\", \"prediction\", \"probability\").show(5)\n",
    "\n",
    "# Évaluer les performances\n",
    "classification_evaluator = MulticlassClassificationEvaluator(\n",
    "    labelCol=\"severity_index\", predictionCol=\"prediction\", metricName=\"accuracy\"\n",
    ")\n",
    "accuracy = classification_evaluator.evaluate(predictions_classifier)\n",
    "print(f\"Précision du modèle de classification : {accuracy:.2f}\")"
   ]
  },
  {
   "cell_type": "code",
   "execution_count": 36,
   "id": "e2269d5b",
   "metadata": {},
   "outputs": [
    {
     "name": "stdout",
     "output_type": "stream",
     "text": [
      "+--------------+-----+\n",
      "|severity_index|count|\n",
      "+--------------+-----+\n",
      "|           0.0|62239|\n",
      "|           1.0| 1314|\n",
      "|           2.0|   24|\n",
      "+--------------+-----+\n",
      "\n"
     ]
    }
   ],
   "source": [
    "test_data.groupBy(\"severity_index\").count().show()\n"
   ]
  },
  {
   "cell_type": "code",
   "execution_count": 37,
   "id": "df109e3e",
   "metadata": {},
   "outputs": [
    {
     "name": "stdout",
     "output_type": "stream",
     "text": [
      "===== Objectif 2 : Prédiction de la taille =====\n",
      "===== Prédictions pour la régression =====\n",
      "+-----------+-----------------+\n",
      "|Area_Km2   |prediction       |\n",
      "+-----------+-----------------+\n",
      "|1.073939977|8.248445972048096|\n",
      "|3.221117395|8.248445972048096|\n",
      "|1.931822245|8.248445972048096|\n",
      "|1.07226946 |7.042890727341005|\n",
      "|1.28670946 |7.042890727341005|\n",
      "|2.78783539 |7.042890727341005|\n",
      "|7.290904512|7.042890727341005|\n",
      "|3.429793055|7.042890727341005|\n",
      "|3.643775961|7.042890727341005|\n",
      "|2.572134754|7.042890727341005|\n",
      "+-----------+-----------------+\n",
      "only showing top 10 rows\n",
      "\n",
      "===== Évaluation des performances =====\n",
      "RMSE (Root Mean Squared Error) : 83.49\n",
      "MAE (Mean Absolute Error) : 9.90\n",
      "===== Importance des caractéristiques =====\n",
      "Season_index: 0.00\n",
      "Duration_days: 0.00\n",
      "CountryName_index: 0.49\n",
      "Region_index: 0.33\n",
      "Continent_index: 0.18\n"
     ]
    }
   ],
   "source": [
    "# ---------------------\n",
    "# 1. Entraîner le modèle de régression\n",
    "# ---------------------\n",
    "print(\"===== Objectif 2 : Prédiction de la taille =====\")\n",
    "\n",
    "# Modèle de RandomForestRegressor avec paramètres optimisés\n",
    "rf_regressor = RandomForestRegressor(\n",
    "    labelCol=\"Area_Km2\",    # Colonne cible\n",
    "    featuresCol=\"features\", # Colonne des caractéristiques\n",
    "    maxBins=150,            # Nombre maximum de bins (important pour les variables catégoriques)\n",
    "    numTrees=100,           # Nombre d'arbres\n",
    "    maxDepth=10             # Profondeur maximale des arbres\n",
    ")\n",
    "\n",
    "# Entraîner le modèle sur les données d'entraînement\n",
    "rf_model_regressor = rf_regressor.fit(train_data)\n",
    "\n",
    "# ---------------------\n",
    "# 2. Faire des prédictions\n",
    "# ---------------------\n",
    "predictions_regressor = rf_model_regressor.transform(test_data)\n",
    "\n",
    "# Afficher un échantillon des prédictions\n",
    "print(\"===== Prédictions pour la régression =====\")\n",
    "predictions_regressor.select(\"Area_Km2\", \"prediction\").show(10, truncate=False)\n",
    "\n",
    "# ---------------------\n",
    "# 3. Évaluer les performances\n",
    "# ---------------------\n",
    "# Initialiser l'évaluateur pour RMSE et MAE\n",
    "regression_evaluator_rmse = RegressionEvaluator(\n",
    "    labelCol=\"Area_Km2\", predictionCol=\"prediction\", metricName=\"rmse\"\n",
    ")\n",
    "regression_evaluator_mae = RegressionEvaluator(\n",
    "    labelCol=\"Area_Km2\", predictionCol=\"prediction\", metricName=\"mae\"\n",
    ")\n",
    "\n",
    "# Calculer RMSE et MAE\n",
    "rmse = regression_evaluator_rmse.evaluate(predictions_regressor)\n",
    "mae = regression_evaluator_mae.evaluate(predictions_regressor)\n",
    "\n",
    "# Afficher les métriques d'évaluation\n",
    "print(\"===== Évaluation des performances =====\")\n",
    "print(f\"RMSE (Root Mean Squared Error) : {rmse:.2f}\")\n",
    "print(f\"MAE (Mean Absolute Error) : {mae:.2f}\")\n",
    "\n",
    "# ---------------------\n",
    "# 4. Importance des caractéristiques\n",
    "# ---------------------\n",
    "print(\"===== Importance des caractéristiques =====\")\n",
    "feature_importances = rf_model_regressor.featureImportances\n",
    "for col, importance in zip(feature_cols, feature_importances):\n",
    "    print(f\"{col}: {importance:.2f}\")"
   ]
  },
  {
   "cell_type": "code",
   "execution_count": 38,
   "id": "53959382",
   "metadata": {},
   "outputs": [
    {
     "name": "stdout",
     "output_type": "stream",
     "text": [
      "+-----------+-----------------+\n",
      "|   Area_Km2|       prediction|\n",
      "+-----------+-----------------+\n",
      "|1.073939977|8.248445972048096|\n",
      "|3.221117395|8.248445972048096|\n",
      "|1.931822245|8.248445972048096|\n",
      "| 1.07226946|7.042890727341005|\n",
      "| 1.28670946|7.042890727341005|\n",
      "| 2.78783539|7.042890727341005|\n",
      "|7.290904512|7.042890727341005|\n",
      "|3.429793055|7.042890727341005|\n",
      "|3.643775961|7.042890727341005|\n",
      "|2.572134754|7.042890727341005|\n",
      "|2.357561481|7.042890727341005|\n",
      "|1.500145118|7.042890727341005|\n",
      "|1.928687191|7.042890727341005|\n",
      "|3.213587668|7.042890727341005|\n",
      "|1.284796405|7.042890727341005|\n",
      "| 2.35506137|7.042890727341005|\n",
      "|1.283970857|7.042890727341005|\n",
      "|1.069900176|7.042890727341005|\n",
      "|3.867095267|8.248445972048096|\n",
      "|1.502286694|8.248445972048096|\n",
      "+-----------+-----------------+\n",
      "only showing top 20 rows\n",
      "\n"
     ]
    }
   ],
   "source": [
    "predictions_regressor.select(\"Area_Km2\", \"prediction\").show(20)\n"
   ]
  },
  {
   "cell_type": "code",
   "execution_count": null,
   "id": "df73368f",
   "metadata": {},
   "outputs": [],
   "source": []
  }
 ],
 "metadata": {
  "kernelspec": {
   "display_name": "Python 3",
   "language": "python",
   "name": "python3"
  },
  "language_info": {
   "codemirror_mode": {
    "name": "ipython",
    "version": 3
   },
   "file_extension": ".py",
   "mimetype": "text/x-python",
   "name": "python",
   "nbconvert_exporter": "python",
   "pygments_lexer": "ipython3",
   "version": "3.11.9"
  }
 },
 "nbformat": 4,
 "nbformat_minor": 5
}
